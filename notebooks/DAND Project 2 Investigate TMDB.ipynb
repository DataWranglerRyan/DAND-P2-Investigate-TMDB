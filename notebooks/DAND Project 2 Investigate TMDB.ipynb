{
 "cells": [
  {
   "cell_type": "markdown",
   "metadata": {},
   "source": [
    "# Investigating The Movie Database"
   ]
  },
  {
   "cell_type": "markdown",
   "metadata": {},
   "source": [
    "### The Data set\n",
    "[The Movie Database](https://www.themoviedb.org/about) (TMDb) is a movie and TV database built by the public since 2008. This specific data set was created by a user on [Kaggle](https://www.kaggle.com/tmdb/tmdb-movie-metadata/home), who utilized TMDb's API to pull **movie** data from 1960 to 2017."
   ]
  },
  {
   "cell_type": "markdown",
   "metadata": {},
   "source": [
    "### The Questions\n",
    "1. On average, Do actors and actresses with longer careers produce movies with higher user ratings?\n",
    "2. On average, Do actors and actresses who have been in more films produce movies with higher user ratings?\n",
    "3. Which actor/actress was in the most movies, and how did that actor's movie user ratings change over his/her career?"
   ]
  },
  {
   "cell_type": "markdown",
   "metadata": {},
   "source": [
    "### Some Limitations\n",
    "1. The dataset was built by the community, so the 'User Ratings' are completely subjective and unmonitored. It is possible that someone could enter a score into the system without actually believing in that score. \n",
    "2. The dataset may not contain every single movie made between 1960 and 2017, it is unknown how movies were selected to be in this dataset.\n",
    "3. A maximum of 5 members of the cast are represented for an individual movie. This means some actors/actresses could have been in a movie, but this dataset may not have included them."
   ]
  },
  {
   "cell_type": "markdown",
   "metadata": {},
   "source": [
    "### The Wrangle Proccess"
   ]
  },
  {
   "cell_type": "code",
   "execution_count": 1,
   "metadata": {},
   "outputs": [],
   "source": [
    "# Hides warning messages\n",
    "import warnings\n",
    "warnings.filterwarnings('ignore')"
   ]
  },
  {
   "cell_type": "code",
   "execution_count": 2,
   "metadata": {},
   "outputs": [],
   "source": [
    "# Allow Jupyter Notebook to use custom modules\n",
    "import os\n",
    "import sys\n",
    "module_path = os.path.abspath(os.path.join('..'))\n",
    "if module_path not in sys.path:\n",
    "    sys.path.append(module_path)\n",
    "from models.the_movie_database import TheMovieDatabase"
   ]
  },
  {
   "cell_type": "markdown",
   "metadata": {},
   "source": [
    "TheMovieDatabase class was built to import and proccess the raw TMDb dataset. Further information regarding this class can be found by checking the [soure code](https://github.com/DataWranglerRyan/DAND-P2-Investigate-TMDB/blob/master/models/the_movie_database.py)."
   ]
  },
  {
   "cell_type": "code",
   "execution_count": 3,
   "metadata": {},
   "outputs": [],
   "source": [
    "tmdb = TheMovieDatabase('../data/tmdb-movies.csv')"
   ]
  },
  {
   "cell_type": "code",
   "execution_count": 4,
   "metadata": {},
   "outputs": [
    {
     "data": {
      "text/html": [
       "<div>\n",
       "<style scoped>\n",
       "    .dataframe tbody tr th:only-of-type {\n",
       "        vertical-align: middle;\n",
       "    }\n",
       "\n",
       "    .dataframe tbody tr th {\n",
       "        vertical-align: top;\n",
       "    }\n",
       "\n",
       "    .dataframe thead th {\n",
       "        text-align: right;\n",
       "    }\n",
       "</style>\n",
       "<table border=\"1\" class=\"dataframe\">\n",
       "  <thead>\n",
       "    <tr style=\"text-align: right;\">\n",
       "      <th></th>\n",
       "      <th></th>\n",
       "      <th></th>\n",
       "      <th></th>\n",
       "      <th></th>\n",
       "      <th></th>\n",
       "      <th></th>\n",
       "      <th>imdb_id</th>\n",
       "      <th>budget</th>\n",
       "      <th>revenue</th>\n",
       "      <th>cast</th>\n",
       "      <th>homepage</th>\n",
       "      <th>director</th>\n",
       "      <th>tagline</th>\n",
       "      <th>keywords</th>\n",
       "      <th>overview</th>\n",
       "      <th>runtime</th>\n",
       "      <th>genres</th>\n",
       "      <th>production_companies</th>\n",
       "      <th>release_date</th>\n",
       "      <th>budget_adj</th>\n",
       "    </tr>\n",
       "    <tr>\n",
       "      <th>id</th>\n",
       "      <th>original_title</th>\n",
       "      <th>popularity</th>\n",
       "      <th>release_year</th>\n",
       "      <th>revenue_adj</th>\n",
       "      <th>vote_average</th>\n",
       "      <th>vote_count</th>\n",
       "      <th></th>\n",
       "      <th></th>\n",
       "      <th></th>\n",
       "      <th></th>\n",
       "      <th></th>\n",
       "      <th></th>\n",
       "      <th></th>\n",
       "      <th></th>\n",
       "      <th></th>\n",
       "      <th></th>\n",
       "      <th></th>\n",
       "      <th></th>\n",
       "      <th></th>\n",
       "      <th></th>\n",
       "    </tr>\n",
       "  </thead>\n",
       "  <tbody>\n",
       "    <tr>\n",
       "      <th>135397</th>\n",
       "      <th>Jurassic World</th>\n",
       "      <th>32.985763</th>\n",
       "      <th>2015</th>\n",
       "      <th>1.392446e+09</th>\n",
       "      <th>6.5</th>\n",
       "      <th>5562</th>\n",
       "      <td>tt0369610</td>\n",
       "      <td>150000000</td>\n",
       "      <td>1513528810</td>\n",
       "      <td>Chris Pratt|Bryce Dallas Howard|Irrfan Khan|Vi...</td>\n",
       "      <td>http://www.jurassicworld.com/</td>\n",
       "      <td>Colin Trevorrow</td>\n",
       "      <td>The park is open.</td>\n",
       "      <td>monster|dna|tyrannosaurus rex|velociraptor|island</td>\n",
       "      <td>Twenty-two years after the events of Jurassic ...</td>\n",
       "      <td>124</td>\n",
       "      <td>Action|Adventure|Science Fiction|Thriller</td>\n",
       "      <td>Universal Studios|Amblin Entertainment|Legenda...</td>\n",
       "      <td>6/9/15</td>\n",
       "      <td>1.379999e+08</td>\n",
       "    </tr>\n",
       "  </tbody>\n",
       "</table>\n",
       "</div>"
      ],
      "text/plain": [
       "                                                                                      imdb_id  \\\n",
       "id     original_title popularity release_year revenue_adj  vote_average vote_count              \n",
       "135397 Jurassic World 32.985763  2015         1.392446e+09 6.5          5562        tt0369610   \n",
       "\n",
       "                                                                                       budget  \\\n",
       "id     original_title popularity release_year revenue_adj  vote_average vote_count              \n",
       "135397 Jurassic World 32.985763  2015         1.392446e+09 6.5          5562        150000000   \n",
       "\n",
       "                                                                                       revenue  \\\n",
       "id     original_title popularity release_year revenue_adj  vote_average vote_count               \n",
       "135397 Jurassic World 32.985763  2015         1.392446e+09 6.5          5562        1513528810   \n",
       "\n",
       "                                                                                                                                 cast  \\\n",
       "id     original_title popularity release_year revenue_adj  vote_average vote_count                                                      \n",
       "135397 Jurassic World 32.985763  2015         1.392446e+09 6.5          5562        Chris Pratt|Bryce Dallas Howard|Irrfan Khan|Vi...   \n",
       "\n",
       "                                                                                                         homepage  \\\n",
       "id     original_title popularity release_year revenue_adj  vote_average vote_count                                  \n",
       "135397 Jurassic World 32.985763  2015         1.392446e+09 6.5          5562        http://www.jurassicworld.com/   \n",
       "\n",
       "                                                                                           director  \\\n",
       "id     original_title popularity release_year revenue_adj  vote_average vote_count                    \n",
       "135397 Jurassic World 32.985763  2015         1.392446e+09 6.5          5562        Colin Trevorrow   \n",
       "\n",
       "                                                                                              tagline  \\\n",
       "id     original_title popularity release_year revenue_adj  vote_average vote_count                      \n",
       "135397 Jurassic World 32.985763  2015         1.392446e+09 6.5          5562        The park is open.   \n",
       "\n",
       "                                                                                                                             keywords  \\\n",
       "id     original_title popularity release_year revenue_adj  vote_average vote_count                                                      \n",
       "135397 Jurassic World 32.985763  2015         1.392446e+09 6.5          5562        monster|dna|tyrannosaurus rex|velociraptor|island   \n",
       "\n",
       "                                                                                                                             overview  \\\n",
       "id     original_title popularity release_year revenue_adj  vote_average vote_count                                                      \n",
       "135397 Jurassic World 32.985763  2015         1.392446e+09 6.5          5562        Twenty-two years after the events of Jurassic ...   \n",
       "\n",
       "                                                                                    runtime  \\\n",
       "id     original_title popularity release_year revenue_adj  vote_average vote_count            \n",
       "135397 Jurassic World 32.985763  2015         1.392446e+09 6.5          5562            124   \n",
       "\n",
       "                                                                                                                       genres  \\\n",
       "id     original_title popularity release_year revenue_adj  vote_average vote_count                                              \n",
       "135397 Jurassic World 32.985763  2015         1.392446e+09 6.5          5562        Action|Adventure|Science Fiction|Thriller   \n",
       "\n",
       "                                                                                                                 production_companies  \\\n",
       "id     original_title popularity release_year revenue_adj  vote_average vote_count                                                      \n",
       "135397 Jurassic World 32.985763  2015         1.392446e+09 6.5          5562        Universal Studios|Amblin Entertainment|Legenda...   \n",
       "\n",
       "                                                                                   release_date  \\\n",
       "id     original_title popularity release_year revenue_adj  vote_average vote_count                \n",
       "135397 Jurassic World 32.985763  2015         1.392446e+09 6.5          5562             6/9/15   \n",
       "\n",
       "                                                                                      budget_adj  \n",
       "id     original_title popularity release_year revenue_adj  vote_average vote_count                \n",
       "135397 Jurassic World 32.985763  2015         1.392446e+09 6.5          5562        1.379999e+08  "
      ]
     },
     "execution_count": 4,
     "metadata": {},
     "output_type": "execute_result"
    }
   ],
   "source": [
    "# This is a sample of what the original dataset looks like\n",
    "tmdb.df_orig.head(1)"
   ]
  },
  {
   "cell_type": "markdown",
   "metadata": {},
   "source": [
    "#### Here are the main wrangle procedures that took place:\n",
    "1. The original dataset had a field called 'cast', which listed up to 5 actors separated by a pipe '|'. In order to answer questions from an 'actor' level of detail, this 'cast' column was exploded. This means each actor in a movie was split into his or her own row for that movie.\n",
    "\n",
    "2. Movies that did not have any actors in the 'cast' column were removed from the data set."
   ]
  },
  {
   "cell_type": "code",
   "execution_count": 5,
   "metadata": {},
   "outputs": [
    {
     "data": {
      "text/html": [
       "<div>\n",
       "<style scoped>\n",
       "    .dataframe tbody tr th:only-of-type {\n",
       "        vertical-align: middle;\n",
       "    }\n",
       "\n",
       "    .dataframe tbody tr th {\n",
       "        vertical-align: top;\n",
       "    }\n",
       "\n",
       "    .dataframe thead th {\n",
       "        text-align: right;\n",
       "    }\n",
       "</style>\n",
       "<table border=\"1\" class=\"dataframe\">\n",
       "  <thead>\n",
       "    <tr style=\"text-align: right;\">\n",
       "      <th></th>\n",
       "      <th>id</th>\n",
       "      <th>original_title</th>\n",
       "      <th>popularity</th>\n",
       "      <th>release_year</th>\n",
       "      <th>revenue_adj</th>\n",
       "      <th>vote_average</th>\n",
       "      <th>vote_count</th>\n",
       "      <th>actor</th>\n",
       "    </tr>\n",
       "  </thead>\n",
       "  <tbody>\n",
       "    <tr>\n",
       "      <th>43589</th>\n",
       "      <td>135397</td>\n",
       "      <td>Jurassic World</td>\n",
       "      <td>32.985763</td>\n",
       "      <td>2015</td>\n",
       "      <td>1.392446e+09</td>\n",
       "      <td>6.5</td>\n",
       "      <td>5562</td>\n",
       "      <td>Vincent D'Onofrio</td>\n",
       "    </tr>\n",
       "    <tr>\n",
       "      <th>43590</th>\n",
       "      <td>135397</td>\n",
       "      <td>Jurassic World</td>\n",
       "      <td>32.985763</td>\n",
       "      <td>2015</td>\n",
       "      <td>1.392446e+09</td>\n",
       "      <td>6.5</td>\n",
       "      <td>5562</td>\n",
       "      <td>Bryce Dallas Howard</td>\n",
       "    </tr>\n",
       "    <tr>\n",
       "      <th>43591</th>\n",
       "      <td>135397</td>\n",
       "      <td>Jurassic World</td>\n",
       "      <td>32.985763</td>\n",
       "      <td>2015</td>\n",
       "      <td>1.392446e+09</td>\n",
       "      <td>6.5</td>\n",
       "      <td>5562</td>\n",
       "      <td>Chris Pratt</td>\n",
       "    </tr>\n",
       "    <tr>\n",
       "      <th>43592</th>\n",
       "      <td>135397</td>\n",
       "      <td>Jurassic World</td>\n",
       "      <td>32.985763</td>\n",
       "      <td>2015</td>\n",
       "      <td>1.392446e+09</td>\n",
       "      <td>6.5</td>\n",
       "      <td>5562</td>\n",
       "      <td>Nick Robinson</td>\n",
       "    </tr>\n",
       "    <tr>\n",
       "      <th>43593</th>\n",
       "      <td>135397</td>\n",
       "      <td>Jurassic World</td>\n",
       "      <td>32.985763</td>\n",
       "      <td>2015</td>\n",
       "      <td>1.392446e+09</td>\n",
       "      <td>6.5</td>\n",
       "      <td>5562</td>\n",
       "      <td>Irrfan Khan</td>\n",
       "    </tr>\n",
       "  </tbody>\n",
       "</table>\n",
       "</div>"
      ],
      "text/plain": [
       "           id  original_title  popularity  release_year   revenue_adj  \\\n",
       "43589  135397  Jurassic World   32.985763          2015  1.392446e+09   \n",
       "43590  135397  Jurassic World   32.985763          2015  1.392446e+09   \n",
       "43591  135397  Jurassic World   32.985763          2015  1.392446e+09   \n",
       "43592  135397  Jurassic World   32.985763          2015  1.392446e+09   \n",
       "43593  135397  Jurassic World   32.985763          2015  1.392446e+09   \n",
       "\n",
       "       vote_average  vote_count                actor  \n",
       "43589           6.5        5562    Vincent D'Onofrio  \n",
       "43590           6.5        5562  Bryce Dallas Howard  \n",
       "43591           6.5        5562          Chris Pratt  \n",
       "43592           6.5        5562        Nick Robinson  \n",
       "43593           6.5        5562          Irrfan Khan  "
      ]
     },
     "execution_count": 5,
     "metadata": {},
     "output_type": "execute_result"
    }
   ],
   "source": [
    "# This is an example of exploding the cast column. Notice each actor is separated into their own row.\n",
    "tmdb.df_exploded.query(\"original_title == 'Jurassic World'\")"
   ]
  },
  {
   "cell_type": "markdown",
   "metadata": {},
   "source": [
    "3. Each actor was grouped and then aggregate statistics were calculated for each actor. Aggregate statistics included metrics like 'average popularity', 'number of movies', 'average movie user rating' (aka vote_average), etc."
   ]
  },
  {
   "cell_type": "code",
   "execution_count": 6,
   "metadata": {},
   "outputs": [
    {
     "data": {
      "text/html": [
       "<div>\n",
       "<style scoped>\n",
       "    .dataframe tbody tr th:only-of-type {\n",
       "        vertical-align: middle;\n",
       "    }\n",
       "\n",
       "    .dataframe tbody tr th {\n",
       "        vertical-align: top;\n",
       "    }\n",
       "\n",
       "    .dataframe thead th {\n",
       "        text-align: right;\n",
       "    }\n",
       "</style>\n",
       "<table border=\"1\" class=\"dataframe\">\n",
       "  <thead>\n",
       "    <tr style=\"text-align: right;\">\n",
       "      <th></th>\n",
       "      <th>id</th>\n",
       "      <th>original_title</th>\n",
       "      <th>popularity</th>\n",
       "      <th>release_year</th>\n",
       "      <th>revenue_adj</th>\n",
       "      <th>vote_average</th>\n",
       "      <th>vote_count</th>\n",
       "      <th>actor</th>\n",
       "    </tr>\n",
       "  </thead>\n",
       "  <tbody>\n",
       "    <tr>\n",
       "      <th>13277</th>\n",
       "      <td>10521</td>\n",
       "      <td>Bride Wars</td>\n",
       "      <td>1.074072</td>\n",
       "      <td>2009</td>\n",
       "      <td>1.165440e+08</td>\n",
       "      <td>5.8</td>\n",
       "      <td>501</td>\n",
       "      <td>Chris Pratt</td>\n",
       "    </tr>\n",
       "    <tr>\n",
       "      <th>27412</th>\n",
       "      <td>21862</td>\n",
       "      <td>Deep in the Valley</td>\n",
       "      <td>0.309360</td>\n",
       "      <td>2009</td>\n",
       "      <td>0.000000e+00</td>\n",
       "      <td>4.2</td>\n",
       "      <td>13</td>\n",
       "      <td>Chris Pratt</td>\n",
       "    </tr>\n",
       "    <tr>\n",
       "      <th>38056</th>\n",
       "      <td>58547</td>\n",
       "      <td>10 Years</td>\n",
       "      <td>1.109807</td>\n",
       "      <td>2011</td>\n",
       "      <td>1.949905e+05</td>\n",
       "      <td>5.6</td>\n",
       "      <td>100</td>\n",
       "      <td>Chris Pratt</td>\n",
       "    </tr>\n",
       "    <tr>\n",
       "      <th>38324</th>\n",
       "      <td>60308</td>\n",
       "      <td>Moneyball</td>\n",
       "      <td>1.081676</td>\n",
       "      <td>2011</td>\n",
       "      <td>1.068337e+08</td>\n",
       "      <td>6.9</td>\n",
       "      <td>899</td>\n",
       "      <td>Chris Pratt</td>\n",
       "    </tr>\n",
       "    <tr>\n",
       "      <th>38620</th>\n",
       "      <td>63492</td>\n",
       "      <td>What's Your Number?</td>\n",
       "      <td>1.120851</td>\n",
       "      <td>2011</td>\n",
       "      <td>2.949500e+07</td>\n",
       "      <td>6.2</td>\n",
       "      <td>390</td>\n",
       "      <td>Chris Pratt</td>\n",
       "    </tr>\n",
       "    <tr>\n",
       "      <th>39450</th>\n",
       "      <td>72207</td>\n",
       "      <td>The Five-Year Engagement</td>\n",
       "      <td>1.095479</td>\n",
       "      <td>2012</td>\n",
       "      <td>5.120048e+07</td>\n",
       "      <td>5.6</td>\n",
       "      <td>319</td>\n",
       "      <td>Chris Pratt</td>\n",
       "    </tr>\n",
       "    <tr>\n",
       "      <th>41806</th>\n",
       "      <td>97630</td>\n",
       "      <td>Zero Dark Thirty</td>\n",
       "      <td>1.554441</td>\n",
       "      <td>2012</td>\n",
       "      <td>1.261457e+08</td>\n",
       "      <td>6.5</td>\n",
       "      <td>1240</td>\n",
       "      <td>Chris Pratt</td>\n",
       "    </tr>\n",
       "    <tr>\n",
       "      <th>42792</th>\n",
       "      <td>118340</td>\n",
       "      <td>Guardians of the Galaxy</td>\n",
       "      <td>14.311205</td>\n",
       "      <td>2014</td>\n",
       "      <td>7.122911e+08</td>\n",
       "      <td>7.9</td>\n",
       "      <td>5612</td>\n",
       "      <td>Chris Pratt</td>\n",
       "    </tr>\n",
       "    <tr>\n",
       "      <th>43591</th>\n",
       "      <td>135397</td>\n",
       "      <td>Jurassic World</td>\n",
       "      <td>32.985763</td>\n",
       "      <td>2015</td>\n",
       "      <td>1.392446e+09</td>\n",
       "      <td>6.5</td>\n",
       "      <td>5562</td>\n",
       "      <td>Chris Pratt</td>\n",
       "    </tr>\n",
       "    <tr>\n",
       "      <th>44071</th>\n",
       "      <td>146239</td>\n",
       "      <td>Delivery Man</td>\n",
       "      <td>1.304540</td>\n",
       "      <td>2013</td>\n",
       "      <td>4.789131e+07</td>\n",
       "      <td>6.1</td>\n",
       "      <td>377</td>\n",
       "      <td>Chris Pratt</td>\n",
       "    </tr>\n",
       "  </tbody>\n",
       "</table>\n",
       "</div>"
      ],
      "text/plain": [
       "           id            original_title  popularity  release_year  \\\n",
       "13277   10521                Bride Wars    1.074072          2009   \n",
       "27412   21862        Deep in the Valley    0.309360          2009   \n",
       "38056   58547                  10 Years    1.109807          2011   \n",
       "38324   60308                 Moneyball    1.081676          2011   \n",
       "38620   63492       What's Your Number?    1.120851          2011   \n",
       "39450   72207  The Five-Year Engagement    1.095479          2012   \n",
       "41806   97630          Zero Dark Thirty    1.554441          2012   \n",
       "42792  118340   Guardians of the Galaxy   14.311205          2014   \n",
       "43591  135397            Jurassic World   32.985763          2015   \n",
       "44071  146239              Delivery Man    1.304540          2013   \n",
       "\n",
       "        revenue_adj  vote_average  vote_count        actor  \n",
       "13277  1.165440e+08           5.8         501  Chris Pratt  \n",
       "27412  0.000000e+00           4.2          13  Chris Pratt  \n",
       "38056  1.949905e+05           5.6         100  Chris Pratt  \n",
       "38324  1.068337e+08           6.9         899  Chris Pratt  \n",
       "38620  2.949500e+07           6.2         390  Chris Pratt  \n",
       "39450  5.120048e+07           5.6         319  Chris Pratt  \n",
       "41806  1.261457e+08           6.5        1240  Chris Pratt  \n",
       "42792  7.122911e+08           7.9        5612  Chris Pratt  \n",
       "43591  1.392446e+09           6.5        5562  Chris Pratt  \n",
       "44071  4.789131e+07           6.1         377  Chris Pratt  "
      ]
     },
     "execution_count": 6,
     "metadata": {},
     "output_type": "execute_result"
    }
   ],
   "source": [
    "# Here is an example of all of the movies that Chris Pratt was in\n",
    "tmdb.df_exploded.query(\"actor == 'Chris Pratt'\")"
   ]
  },
  {
   "cell_type": "code",
   "execution_count": 7,
   "metadata": {},
   "outputs": [
    {
     "data": {
      "text/html": [
       "<div>\n",
       "<style scoped>\n",
       "    .dataframe tbody tr th:only-of-type {\n",
       "        vertical-align: middle;\n",
       "    }\n",
       "\n",
       "    .dataframe tbody tr th {\n",
       "        vertical-align: top;\n",
       "    }\n",
       "\n",
       "    .dataframe thead th {\n",
       "        text-align: right;\n",
       "    }\n",
       "</style>\n",
       "<table border=\"1\" class=\"dataframe\">\n",
       "  <thead>\n",
       "    <tr style=\"text-align: right;\">\n",
       "      <th></th>\n",
       "      <th>actor</th>\n",
       "      <th>avg_popularity</th>\n",
       "      <th>number_of_movies</th>\n",
       "      <th>vote_average</th>\n",
       "      <th>vote_count</th>\n",
       "      <th>revenue_adj</th>\n",
       "      <th>first_year</th>\n",
       "      <th>last_year</th>\n",
       "    </tr>\n",
       "  </thead>\n",
       "  <tbody>\n",
       "    <tr>\n",
       "      <th>3246</th>\n",
       "      <td>Chris Pratt</td>\n",
       "      <td>5.594719</td>\n",
       "      <td>10</td>\n",
       "      <td>6.13</td>\n",
       "      <td>15013</td>\n",
       "      <td>2.583042e+08</td>\n",
       "      <td>2009</td>\n",
       "      <td>2015</td>\n",
       "    </tr>\n",
       "  </tbody>\n",
       "</table>\n",
       "</div>"
      ],
      "text/plain": [
       "            actor  avg_popularity  number_of_movies  vote_average  vote_count  \\\n",
       "3246  Chris Pratt        5.594719                10          6.13       15013   \n",
       "\n",
       "       revenue_adj  first_year  last_year  \n",
       "3246  2.583042e+08        2009       2015  "
      ]
     },
     "execution_count": 7,
     "metadata": {},
     "output_type": "execute_result"
    }
   ],
   "source": [
    "# In this example, all of Chris Pratt's movies were grouped into one row and aggregate statistics were calculated.\n",
    "tmdb.get_actor_metrics().query(\"actor == 'Chris Pratt'\")"
   ]
  },
  {
   "cell_type": "markdown",
   "metadata": {},
   "source": [
    "From here, further wrangling took place depending on the question that was being answered."
   ]
  },
  {
   "cell_type": "markdown",
   "metadata": {},
   "source": [
    "### Answering the Questions\n",
    "##### Question 1: On average, Do actors and actresses with longer careers produce movies with higher user ratings?\n",
    "\n",
    "For the purposes of this analysis, *career length* is defined by the release year of an actor's first movie in this dataset minus the release year of that actor's last movie in this dataset. For example, Chris Pratt's first movie in this dataset was from 2009 and his last movie was in 2015, so his career length is 6 years.\n",
    "\n",
    "In order to create a bar chart, categorical data needed to be created from numerical data. This was achieved by bucketing *career length* into bins with intervals of every 5 years."
   ]
  },
  {
   "cell_type": "code",
   "execution_count": 8,
   "metadata": {},
   "outputs": [
    {
     "data": {
      "image/png": "[encoded data removed]",
      "text/plain": [
       "<Figure size 576x396 with 1 Axes>"
      ]
     },
     "metadata": {},
     "output_type": "display_data"
    }
   ],
   "source": [
    "tmdb.plot_avg_rating_by_career_len()"
   ]
  },
  {
   "cell_type": "markdown",
   "metadata": {},
   "source": [
    "From the above chart, it appears that average movie ratings increase for actor's who have had longer careers. However, it is important to note that the sample size decreases significantly for actors with longer career lengths."
   ]
  },
  {
   "cell_type": "code",
   "execution_count": 9,
   "metadata": {},
   "outputs": [
    {
     "data": {
      "image/png": "[encoded data removed]",
      "text/plain": [
       "<Figure size 576x396 with 1 Axes>"
      ]
     },
     "metadata": {},
     "output_type": "display_data"
    }
   ],
   "source": [
    "tmdb.plot_num_actors_by_career_len()"
   ]
  },
  {
   "cell_type": "markdown",
   "metadata": {},
   "source": [
    "##### Question 2: On average, Do actors and actresses who have been in more films produce movies with higher user ratings?\n",
    "\n",
    "There appears to be a slightly positive trend in average movie ratings for actors that have starred in more movies. However, it is difficult to determine if the average movie rating is directly correlated to the number of movies an actor starred in."
   ]
  },
  {
   "cell_type": "code",
   "execution_count": 10,
   "metadata": {},
   "outputs": [
    {
     "data": {
      "image/png": "[encoded data removed]",
      "text/plain": [
       "<Figure size 576x396 with 1 Axes>"
      ]
     },
     "metadata": {},
     "output_type": "display_data"
    }
   ],
   "source": [
    "tmdb.plot_avg_rating_by_movie_exp()"
   ]
  },
  {
   "cell_type": "markdown",
   "metadata": {},
   "source": [
    "##### Question 3: Which actor/actress was in the most movies, and how did that actor's movie user ratings change over his/her career?\n",
    "Robert De Niro has starred in 72 movies, which is the most in this dataset."
   ]
  },
  {
   "cell_type": "code",
   "execution_count": 13,
   "metadata": {},
   "outputs": [
    {
     "data": {
      "text/html": [
       "<div>\n",
       "<style scoped>\n",
       "    .dataframe tbody tr th:only-of-type {\n",
       "        vertical-align: middle;\n",
       "    }\n",
       "\n",
       "    .dataframe tbody tr th {\n",
       "        vertical-align: top;\n",
       "    }\n",
       "\n",
       "    .dataframe thead th {\n",
       "        text-align: right;\n",
       "    }\n",
       "</style>\n",
       "<table border=\"1\" class=\"dataframe\">\n",
       "  <thead>\n",
       "    <tr style=\"text-align: right;\">\n",
       "      <th></th>\n",
       "      <th>actor</th>\n",
       "      <th>number_of_movies</th>\n",
       "    </tr>\n",
       "  </thead>\n",
       "  <tbody>\n",
       "    <tr>\n",
       "      <th>15340</th>\n",
       "      <td>Robert De Niro</td>\n",
       "      <td>72</td>\n",
       "    </tr>\n",
       "    <tr>\n",
       "      <th>16078</th>\n",
       "      <td>Samuel L. Jackson</td>\n",
       "      <td>71</td>\n",
       "    </tr>\n",
       "    <tr>\n",
       "      <th>2508</th>\n",
       "      <td>Bruce Willis</td>\n",
       "      <td>62</td>\n",
       "    </tr>\n",
       "    <tr>\n",
       "      <th>13621</th>\n",
       "      <td>Nicolas Cage</td>\n",
       "      <td>61</td>\n",
       "    </tr>\n",
       "    <tr>\n",
       "      <th>12583</th>\n",
       "      <td>Michael Caine</td>\n",
       "      <td>53</td>\n",
       "    </tr>\n",
       "  </tbody>\n",
       "</table>\n",
       "</div>"
      ],
      "text/plain": [
       "                   actor  number_of_movies\n",
       "15340     Robert De Niro                72\n",
       "16078  Samuel L. Jackson                71\n",
       "2508        Bruce Willis                62\n",
       "13621       Nicolas Cage                61\n",
       "12583      Michael Caine                53"
      ]
     },
     "execution_count": 13,
     "metadata": {},
     "output_type": "execute_result"
    }
   ],
   "source": [
    "tmdb.get_actor_metrics()[['actor','number_of_movies']].head()"
   ]
  },
  {
   "cell_type": "markdown",
   "metadata": {},
   "source": [
    "This line chart shows that over time, Robert De Niro's movie ratings have been declining."
   ]
  },
  {
   "cell_type": "code",
   "execution_count": 14,
   "metadata": {},
   "outputs": [
    {
     "data": {
      "image/png": "[encoded data removed]",
      "text/plain": [
       "<Figure size 576x396 with 1 Axes>"
      ]
     },
     "metadata": {},
     "output_type": "display_data"
    }
   ],
   "source": [
    "tmdb.plot_an_actors_avg_ratings_over_time('Robert De Niro')"
   ]
  }
 ],
 "metadata": {
  "kernelspec": {
   "display_name": "Python (dandenv)",
   "language": "python",
   "name": "dandenv"
  },
  "language_info": {
   "codemirror_mode": {
    "name": "ipython",
    "version": 3
   },
   "file_extension": ".py",
   "mimetype": "text/x-python",
   "name": "python",
   "nbconvert_exporter": "python",
   "pygments_lexer": "ipython3",
   "version": "3.6.5"
  },
  "nbpresent": {
   "slides": {},
   "themes": {
    "default": "4d777a63-88c4-496e-9971-ee5f717dcd0b",
    "theme": {
     "4d777a63-88c4-496e-9971-ee5f717dcd0b": {
      "backgrounds": {
       "dc7afa04-bf90-40b1-82a5-726e3cff5267": {
        "background-color": "31af15d2-7e15-44c5-ab5e-e04b16a89eff",
        "id": "dc7afa04-bf90-40b1-82a5-726e3cff5267"
       }
      },
      "id": "4d777a63-88c4-496e-9971-ee5f717dcd0b",
      "palette": {
       "19cc588f-0593-49c9-9f4b-e4d7cc113b1c": {
        "id": "19cc588f-0593-49c9-9f4b-e4d7cc113b1c",
        "rgb": [
         252,
         252,
         252
        ]
       },
       "31af15d2-7e15-44c5-ab5e-e04b16a89eff": {
        "id": "31af15d2-7e15-44c5-ab5e-e04b16a89eff",
        "rgb": [
         68,
         68,
         68
        ]
       },
       "50f92c45-a630-455b-aec3-788680ec7410": {
        "id": "50f92c45-a630-455b-aec3-788680ec7410",
        "rgb": [
         197,
         226,
         245
        ]
       },
       "c5cc3653-2ee1-402a-aba2-7caae1da4f6c": {
        "id": "c5cc3653-2ee1-402a-aba2-7caae1da4f6c",
        "rgb": [
         43,
         126,
         184
        ]
       },
       "efa7f048-9acb-414c-8b04-a26811511a21": {
        "id": "efa7f048-9acb-414c-8b04-a26811511a21",
        "rgb": [
         25.118061674008803,
         73.60176211453744,
         107.4819383259912
        ]
       }
      },
      "rules": {
       "a": {
        "color": "19cc588f-0593-49c9-9f4b-e4d7cc113b1c"
       },
       "blockquote": {
        "color": "50f92c45-a630-455b-aec3-788680ec7410",
        "font-size": 3
       },
       "code": {
        "font-family": "Anonymous Pro"
       },
       "h1": {
        "color": "19cc588f-0593-49c9-9f4b-e4d7cc113b1c",
        "font-family": "Merriweather",
        "font-size": 8
       },
       "h2": {
        "color": "19cc588f-0593-49c9-9f4b-e4d7cc113b1c",
        "font-family": "Merriweather",
        "font-size": 6
       },
       "h3": {
        "color": "50f92c45-a630-455b-aec3-788680ec7410",
        "font-family": "Lato",
        "font-size": 5.5
       },
       "h4": {
        "color": "c5cc3653-2ee1-402a-aba2-7caae1da4f6c",
        "font-family": "Lato",
        "font-size": 5
       },
       "h5": {
        "font-family": "Lato"
       },
       "h6": {
        "font-family": "Lato"
       },
       "h7": {
        "font-family": "Lato"
       },
       "li": {
        "color": "50f92c45-a630-455b-aec3-788680ec7410",
        "font-size": 3.25
       },
       "pre": {
        "font-family": "Anonymous Pro",
        "font-size": 4
       }
      },
      "text-base": {
       "color": "19cc588f-0593-49c9-9f4b-e4d7cc113b1c",
       "font-family": "Lato",
       "font-size": 4
      }
     }
    }
   }
  }
 },
 "nbformat": 4,
 "nbformat_minor": 2
}
